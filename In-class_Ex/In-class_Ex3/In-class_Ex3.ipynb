{
  "cells": [
    {
      "cell_type": "raw",
      "metadata": {},
      "source": [
        "---\n",
        "title: \"In-class Exercise 3 - Interactive Data Visualisation \"\n",
        "author: \"Anica Clarice Antonella P. Galano (acapgalano)\"\n",
        "date: \"`r Sys.Date()`\"\n",
        "---"
      ],
      "id": "3a9bc848"
    },
    {
      "cell_type": "markdown",
      "metadata": {},
      "source": [
        "# Overview\n",
        "\n",
        "This document serves as my In-class Exercise 3 requirement, following the second week of ISSS608 VAA lecture of Professor Kam on January 9, 2023.\n",
        "\n",
        "# Tableau\n",
        "\n",
        "## Tooltips\n",
        "\n",
        "\n",
        "```{html}\n",
        "<div class='tableauPlaceholder' id='viz1674887538366' style='position: relative'><noscript><a href='#'><img alt='Sales and Profit Summary, 2019-2022 ' src='https:&#47;&#47;public.tableau.com&#47;static&#47;images&#47;In&#47;In-class_Ex3&#47;SalesandProfitSummary&#47;1_rss.png' style='border: none' /></a></noscript><object class='tableauViz'  style='display:none;'><param name='host_url' value='https%3A%2F%2Fpublic.tableau.com%2F' /> <param name='embed_code_version' value='3' /> <param name='site_root' value='' /><param name='name' value='In-class_Ex3&#47;SalesandProfitSummary' /><param name='tabs' value='no' /><param name='toolbar' value='yes' /><param name='static_image' value='https:&#47;&#47;public.tableau.com&#47;static&#47;images&#47;In&#47;In-class_Ex3&#47;SalesandProfitSummary&#47;1.png' /> <param name='animate_transition' value='yes' /><param name='display_static_image' value='yes' /><param name='display_spinner' value='yes' /><param name='display_overlay' value='yes' /><param name='display_count' value='yes' /><param name='language' value='en-US' /><param name='filter' value='publish=yes' /></object></div>                <script type='text/javascript'>                    var divElement = document.getElementById('viz1674887538366');                    var vizElement = divElement.getElementsByTagName('object')[0];                    if ( divElement.offsetWidth > 800 ) { vizElement.style.width='100%';vizElement.style.height=(divElement.offsetWidth*0.75)+'px';} else if ( divElement.offsetWidth > 500 ) { vizElement.style.width='100%';vizElement.style.height=(divElement.offsetWidth*0.75)+'px';} else { vizElement.style.width='100%';vizElement.style.height='1477px';}                     var scriptElement = document.createElement('script');                    scriptElement.src = 'https://public.tableau.com/javascripts/api/viz_v1.js';                    vizElement.parentNode.insertBefore(scriptElement, vizElement);                </script>\n",
        "\n",
        "```\n",
        "\n",
        "\n",
        "## Highlights\n",
        "\n",
        "\n",
        "```{html}\n",
        "<div class='tableauPlaceholder' id='viz1674887561896' style='position: relative'><noscript><a href='#'><img alt='Maths vs. English Scores ' src='https:&#47;&#47;public.tableau.com&#47;static&#47;images&#47;In&#47;In-class_Ex3_Exam&#47;Mathsvs_EnglishScores&#47;1_rss.png' style='border: none' /></a></noscript><object class='tableauViz'  style='display:none;'><param name='host_url' value='https%3A%2F%2Fpublic.tableau.com%2F' /> <param name='embed_code_version' value='3' /> <param name='site_root' value='' /><param name='name' value='In-class_Ex3_Exam&#47;Mathsvs_EnglishScores' /><param name='tabs' value='no' /><param name='toolbar' value='yes' /><param name='static_image' value='https:&#47;&#47;public.tableau.com&#47;static&#47;images&#47;In&#47;In-class_Ex3_Exam&#47;Mathsvs_EnglishScores&#47;1.png' /> <param name='animate_transition' value='yes' /><param name='display_static_image' value='yes' /><param name='display_spinner' value='yes' /><param name='display_overlay' value='yes' /><param name='display_count' value='yes' /><param name='language' value='en-US' /><param name='filter' value='publish=yes' /></object></div>                <script type='text/javascript'>                    var divElement = document.getElementById('viz1674887561896');                    var vizElement = divElement.getElementsByTagName('object')[0];                    if ( divElement.offsetWidth > 800 ) { vizElement.style.width='100%';vizElement.style.height=(divElement.offsetWidth*0.75)+'px';} else if ( divElement.offsetWidth > 500 ) { vizElement.style.width='100%';vizElement.style.height=(divElement.offsetWidth*0.75)+'px';} else { vizElement.style.width='100%';vizElement.style.height='827px';}                     var scriptElement = document.createElement('script');                    scriptElement.src = 'https://public.tableau.com/javascripts/api/viz_v1.js';                    vizElement.parentNode.insertBefore(scriptElement, vizElement);                </script>\n",
        "```\n",
        "\n",
        "\n",
        "# R"
      ],
      "id": "184c5116"
    }
  ],
  "metadata": {
    "kernelspec": {
      "name": "python3",
      "language": "python",
      "display_name": "Python 3 (ipykernel)"
    }
  },
  "nbformat": 4,
  "nbformat_minor": 5
}